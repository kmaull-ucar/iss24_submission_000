{
 "cells": [
  {
   "cell_type": "markdown",
   "id": "58eb26cd-4db7-422c-a90b-c8af72656516",
   "metadata": {},
   "source": [
    "## Implementation\n",
    "\n",
    "In this section we will explore exactly how each API returns data of interest.\n",
    "\n",
    "We will look at how to obtain "
   ]
  },
  {
   "cell_type": "code",
   "execution_count": 1,
   "id": "51e13e83-5d09-4e67-be44-78914325a3dd",
   "metadata": {
    "tags": []
   },
   "outputs": [],
   "source": [
    "import pandas as pd"
   ]
  }
 ],
 "metadata": {
  "kernelspec": {
   "display_name": "Python 3 (ipykernel)",
   "language": "python",
   "name": "python3"
  },
  "language_info": {
   "codemirror_mode": {
    "name": "ipython",
    "version": 3
   },
   "file_extension": ".py",
   "mimetype": "text/x-python",
   "name": "python",
   "nbconvert_exporter": "python",
   "pygments_lexer": "ipython3",
   "version": "3.11.4"
  }
 },
 "nbformat": 4,
 "nbformat_minor": 5
}
